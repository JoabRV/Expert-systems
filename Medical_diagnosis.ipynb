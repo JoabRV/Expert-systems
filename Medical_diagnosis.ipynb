{
  "nbformat": 4,
  "nbformat_minor": 0,
  "metadata": {
    "colab": {
      "provenance": []
    },
    "kernelspec": {
      "name": "python3",
      "display_name": "Python 3"
    },
    "language_info": {
      "name": "python"
    }
  },
  "cells": [
    {
      "cell_type": "code",
      "execution_count": 1,
      "metadata": {
        "colab": {
          "base_uri": "https://localhost:8080/",
          "height": 428
        },
        "id": "M4_F-Wk7tSO8",
        "outputId": "70a4ae30-b8ce-489e-c3a8-09d3082fb660"
      },
      "outputs": [
        {
          "output_type": "stream",
          "name": "stdout",
          "text": [
            "Welcome to the Medical Diagnostic Expert System\n",
            "Please answer the following questions with 'yes' or 'no':\n"
          ]
        },
        {
          "output_type": "error",
          "ename": "KeyboardInterrupt",
          "evalue": "ignored",
          "traceback": [
            "\u001b[0;31m---------------------------------------------------------------------------\u001b[0m",
            "\u001b[0;31mKeyboardInterrupt\u001b[0m                         Traceback (most recent call last)",
            "\u001b[0;32m<ipython-input-1-37145aca13b0>\u001b[0m in \u001b[0;36m<cell line: 36>\u001b[0;34m()\u001b[0m\n\u001b[1;32m     35\u001b[0m \u001b[0;34m\u001b[0m\u001b[0m\n\u001b[1;32m     36\u001b[0m \u001b[0;32mfor\u001b[0m \u001b[0msymptom\u001b[0m \u001b[0;32min\u001b[0m \u001b[0;34m[\u001b[0m\u001b[0mfever\u001b[0m\u001b[0;34m,\u001b[0m \u001b[0mcough\u001b[0m\u001b[0;34m,\u001b[0m \u001b[0mfatigue\u001b[0m\u001b[0;34m]\u001b[0m\u001b[0;34m:\u001b[0m\u001b[0;34m\u001b[0m\u001b[0;34m\u001b[0m\u001b[0m\n\u001b[0;32m---> 37\u001b[0;31m     \u001b[0mresponse\u001b[0m \u001b[0;34m=\u001b[0m \u001b[0minput\u001b[0m\u001b[0;34m(\u001b[0m\u001b[0;34mf\"Do you have {symptom.name}? \"\u001b[0m\u001b[0;34m)\u001b[0m\u001b[0;34m.\u001b[0m\u001b[0mlower\u001b[0m\u001b[0;34m(\u001b[0m\u001b[0;34m)\u001b[0m\u001b[0;34m\u001b[0m\u001b[0;34m\u001b[0m\u001b[0m\n\u001b[0m\u001b[1;32m     38\u001b[0m     \u001b[0;32mif\u001b[0m \u001b[0mresponse\u001b[0m \u001b[0;34m==\u001b[0m \u001b[0;34m'yes'\u001b[0m\u001b[0;34m:\u001b[0m\u001b[0;34m\u001b[0m\u001b[0;34m\u001b[0m\u001b[0m\n\u001b[1;32m     39\u001b[0m         \u001b[0msymptom\u001b[0m\u001b[0;34m.\u001b[0m\u001b[0mpresent\u001b[0m \u001b[0;34m=\u001b[0m \u001b[0;32mTrue\u001b[0m\u001b[0;34m\u001b[0m\u001b[0;34m\u001b[0m\u001b[0m\n",
            "\u001b[0;32m/usr/local/lib/python3.10/dist-packages/ipykernel/kernelbase.py\u001b[0m in \u001b[0;36mraw_input\u001b[0;34m(self, prompt)\u001b[0m\n\u001b[1;32m    849\u001b[0m                 \u001b[0;34m\"raw_input was called, but this frontend does not support input requests.\"\u001b[0m\u001b[0;34m\u001b[0m\u001b[0;34m\u001b[0m\u001b[0m\n\u001b[1;32m    850\u001b[0m             )\n\u001b[0;32m--> 851\u001b[0;31m         return self._input_request(str(prompt),\n\u001b[0m\u001b[1;32m    852\u001b[0m             \u001b[0mself\u001b[0m\u001b[0;34m.\u001b[0m\u001b[0m_parent_ident\u001b[0m\u001b[0;34m,\u001b[0m\u001b[0;34m\u001b[0m\u001b[0;34m\u001b[0m\u001b[0m\n\u001b[1;32m    853\u001b[0m             \u001b[0mself\u001b[0m\u001b[0;34m.\u001b[0m\u001b[0m_parent_header\u001b[0m\u001b[0;34m,\u001b[0m\u001b[0;34m\u001b[0m\u001b[0;34m\u001b[0m\u001b[0m\n",
            "\u001b[0;32m/usr/local/lib/python3.10/dist-packages/ipykernel/kernelbase.py\u001b[0m in \u001b[0;36m_input_request\u001b[0;34m(self, prompt, ident, parent, password)\u001b[0m\n\u001b[1;32m    893\u001b[0m             \u001b[0;32mexcept\u001b[0m \u001b[0mKeyboardInterrupt\u001b[0m\u001b[0;34m:\u001b[0m\u001b[0;34m\u001b[0m\u001b[0;34m\u001b[0m\u001b[0m\n\u001b[1;32m    894\u001b[0m                 \u001b[0;31m# re-raise KeyboardInterrupt, to truncate traceback\u001b[0m\u001b[0;34m\u001b[0m\u001b[0;34m\u001b[0m\u001b[0m\n\u001b[0;32m--> 895\u001b[0;31m                 \u001b[0;32mraise\u001b[0m \u001b[0mKeyboardInterrupt\u001b[0m\u001b[0;34m(\u001b[0m\u001b[0;34m\"Interrupted by user\"\u001b[0m\u001b[0;34m)\u001b[0m \u001b[0;32mfrom\u001b[0m \u001b[0;32mNone\u001b[0m\u001b[0;34m\u001b[0m\u001b[0;34m\u001b[0m\u001b[0m\n\u001b[0m\u001b[1;32m    896\u001b[0m             \u001b[0;32mexcept\u001b[0m \u001b[0mException\u001b[0m \u001b[0;32mas\u001b[0m \u001b[0me\u001b[0m\u001b[0;34m:\u001b[0m\u001b[0;34m\u001b[0m\u001b[0;34m\u001b[0m\u001b[0m\n\u001b[1;32m    897\u001b[0m                 \u001b[0mself\u001b[0m\u001b[0;34m.\u001b[0m\u001b[0mlog\u001b[0m\u001b[0;34m.\u001b[0m\u001b[0mwarning\u001b[0m\u001b[0;34m(\u001b[0m\u001b[0;34m\"Invalid Message:\"\u001b[0m\u001b[0;34m,\u001b[0m \u001b[0mexc_info\u001b[0m\u001b[0;34m=\u001b[0m\u001b[0;32mTrue\u001b[0m\u001b[0;34m)\u001b[0m\u001b[0;34m\u001b[0m\u001b[0;34m\u001b[0m\u001b[0m\n",
            "\u001b[0;31mKeyboardInterrupt\u001b[0m: Interrupted by user"
          ]
        }
      ],
      "source": [
        "class Symptom:\n",
        "    def __init__(self, name):\n",
        "        self.name = name\n",
        "        self.present = False\n",
        "\n",
        "class Disease:\n",
        "    def __init__(self, name, symptoms, recommendations):\n",
        "        self.name = name\n",
        "        self.symptoms = symptoms\n",
        "        self.recommendations = recommendations\n",
        "\n",
        "def diagnose(symptoms, diseases):\n",
        "    possible_diseases = []\n",
        "    for disease in diseases:\n",
        "        matching_symptoms = [symptom for symptom in disease.symptoms if symptom.present]\n",
        "        if len(matching_symptoms) == len(disease.symptoms):\n",
        "            possible_diseases.append(disease)\n",
        "    return possible_diseases\n",
        "\n",
        "# Define Symptoms\n",
        "fever = Symptom(\"Fever\")\n",
        "cough = Symptom(\"Cough\")\n",
        "fatigue = Symptom(\"Fatigue\")\n",
        "\n",
        "# Define Diseases and their Symptoms\n",
        "diseases = [\n",
        "    Disease(\"Common Cold\", [fever, cough, fatigue], \"Rest and stay hydrated.\"),\n",
        "    Disease(\"Flu\", [fever, cough, fatigue], \"Rest, stay hydrated, and consider antiviral medication.\"),\n",
        "    Disease(\"COVID-19\", [fever, cough, fatigue], \"Isolate yourself and seek medical attention.\")\n",
        "]\n",
        "\n",
        "# User Input\n",
        "print(\"Welcome to the Medical Diagnostic Expert System\")\n",
        "print(\"Please answer the following questions with 'yes' or 'no':\")\n",
        "\n",
        "for symptom in [fever, cough, fatigue]:\n",
        "    response = input(f\"Do you have {symptom.name}? \").lower()\n",
        "    if response == 'yes':\n",
        "        symptom.present = True\n",
        "\n",
        "# Diagnose\n",
        "possible_diseases = diagnose([fever, cough, fatigue], diseases)\n",
        "\n",
        "# Display Diagnosis and Recommendations\n",
        "if possible_diseases:\n",
        "    print(\"\\nPossible diagnoses:\")\n",
        "    for disease in possible_diseases:\n",
        "        print(f\"- {disease.name}\")\n",
        "        print(f\"  Recommendations: {disease.recommendations}\")\n",
        "else:\n",
        "    print(\"\\nNo matching diagnoses found based on the symptoms provided.\")\n"
      ]
    }
  ]
}