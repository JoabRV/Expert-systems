{
  "nbformat": 4,
  "nbformat_minor": 0,
  "metadata": {
    "colab": {
      "provenance": []
    },
    "kernelspec": {
      "name": "python3",
      "display_name": "Python 3"
    },
    "language_info": {
      "name": "python"
    }
  },
  "cells": [
    {
      "cell_type": "code",
      "execution_count": null,
      "metadata": {
        "id": "evbH6C5PC4os"
      },
      "outputs": [],
      "source": [
        "class AdvancedTechSupport:\n",
        "    def __init__(self):\n",
        "        self.knowledge_base = {\n",
        "            \"software\": \"Reinstall the software and update to the latest version.\",\n",
        "            \"network\": \"Check router settings and restart. Verify network drivers are up to date.\",\n",
        "            \"hardware\": \"Run hardware diagnostics to identify faulty components. Replace if necessary.\"\n",
        "        }\n",
        "\n",
        "    def diagnose_issue(self, issue):\n",
        "        return self.knowledge_base.get(issue, \"Issue not recognized. Please contact technical support.\")\n",
        "\n",
        "# User Input\n",
        "print(\"Welcome to the Advanced Technical Support Expert System\")\n",
        "issue = input(\"Please describe the technical issue you are experiencing: \")\n",
        "\n",
        "# Create Advanced Tech Support Expert\n",
        "tech_support = AdvancedTechSupport()\n",
        "\n",
        "# Diagnose Issue and Provide Solution\n",
        "solution = tech_support.diagnose_issue(issue)\n",
        "\n",
        "# Display Solution\n",
        "print(\"\\nSolution:\")\n",
        "print(solution)\n"
      ]
    }
  ]
}