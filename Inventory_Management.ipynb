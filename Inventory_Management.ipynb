{
  "nbformat": 4,
  "nbformat_minor": 0,
  "metadata": {
    "colab": {
      "provenance": []
    },
    "kernelspec": {
      "name": "python3",
      "display_name": "Python 3"
    },
    "language_info": {
      "name": "python"
    }
  },
  "cells": [
    {
      "cell_type": "code",
      "execution_count": null,
      "metadata": {
        "id": "N67JfQwUDyfc"
      },
      "outputs": [],
      "source": [
        "class InventoryManager:\n",
        "    def __init__(self):\n",
        "        self.products = {}\n",
        "\n",
        "    def add_product(self, product_name, current_quantity, reorder_point):\n",
        "        self.products[product_name] = {\"current_quantity\": current_quantity, \"reorder_point\": reorder_point}\n",
        "\n",
        "    def optimize_inventory(self):\n",
        "        for product, details in self.products.items():\n",
        "            if details[\"current_quantity\"] < details[\"reorder_point\"]:\n",
        "                print(f\"Product {product} is below reorder point. Place an order to restock.\")\n",
        "            else:\n",
        "                print(f\"Product {product} inventory level is sufficient.\")\n",
        "\n",
        "# User Input\n",
        "print(\"Welcome to the Inventory Management Expert System\")\n",
        "product_name = input(\"Enter product name: \")\n",
        "current_quantity = int(input(\"Enter current quantity on hand: \"))\n",
        "reorder_point = int(input(\"Enter reorder point: \"))\n",
        "\n",
        "# Create Inventory Manager Expert\n",
        "inventory_expert = InventoryManager()\n",
        "\n",
        "# Add Product and Optimize Inventory\n",
        "inventory_expert.add_product(product_name, current_quantity, reorder_point)\n",
        "inventory_expert.optimize_inventory()\n"
      ]
    }
  ]
}