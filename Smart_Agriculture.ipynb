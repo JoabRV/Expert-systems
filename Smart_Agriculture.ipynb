{
  "nbformat": 4,
  "nbformat_minor": 0,
  "metadata": {
    "colab": {
      "provenance": []
    },
    "kernelspec": {
      "name": "python3",
      "display_name": "Python 3"
    },
    "language_info": {
      "name": "python"
    }
  },
  "cells": [
    {
      "cell_type": "code",
      "execution_count": null,
      "metadata": {
        "id": "EfUL9NOKD0Aq"
      },
      "outputs": [],
      "source": [
        "class SmartAgriculture:\n",
        "    def __init__(self):\n",
        "        self.crop_data = {}\n",
        "\n",
        "    def collect_data(self, crop_name, weather_conditions, soil_quality):\n",
        "        self.crop_data[crop_name] = {\"weather_conditions\": weather_conditions, \"soil_quality\": soil_quality}\n",
        "\n",
        "    def provide_recommendation(self, crop_name):\n",
        "        if self.crop_data[crop_name][\"weather_conditions\"] == \"favorable\" and self.crop_data[crop_name][\"soil_quality\"] == \"optimal\":\n",
        "            return f\"For {crop_name}: Apply recommended irrigation and fertilization practices. Monitor for pests.\"\n",
        "        else:\n",
        "            return f\"For {crop_name}: Adjust irrigation and fertilization based on conditions. Implement pest control measures if needed.\"\n",
        "\n",
        "# User Input\n",
        "print(\"Welcome to the Smart Agriculture Expert System\")\n",
        "crop_name = input(\"Enter crop name: \")\n",
        "weather_conditions = input(\"Enter weather conditions (favorable, adverse): \")\n",
        "soil_quality = input(\"Enter soil quality (optimal, moderate, poor): \")\n",
        "\n",
        "# Create Smart Agriculture Expert\n",
        "agriculture_expert = SmartAgriculture()\n",
        "\n",
        "# Collect Data and Provide Recommendation\n",
        "agriculture_expert.collect_data(crop_name, weather_conditions, soil_quality)\n",
        "agriculture_recommendation = agriculture_expert.provide_recommendation(crop_name)\n",
        "\n",
        "# Display Agriculture Recommendation\n",
        "print(\"\\nAgriculture Recommendation:\")\n",
        "print(agriculture_recommendation)\n"
      ]
    }
  ]
}