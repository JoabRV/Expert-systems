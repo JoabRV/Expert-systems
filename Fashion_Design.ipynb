{
  "nbformat": 4,
  "nbformat_minor": 0,
  "metadata": {
    "colab": {
      "provenance": []
    },
    "kernelspec": {
      "name": "python3",
      "display_name": "Python 3"
    },
    "language_info": {
      "name": "python"
    }
  },
  "cells": [
    {
      "cell_type": "code",
      "execution_count": null,
      "metadata": {
        "id": "UUqupbN1C52S"
      },
      "outputs": [],
      "source": [
        "class FashionDesigner:\n",
        "    def __init__(self):\n",
        "        self.designs = {}\n",
        "\n",
        "    def create_design(self, style, colors, garments):\n",
        "        self.designs[\"style\"] = style\n",
        "        self.designs[\"colors\"] = colors\n",
        "        self.designs[\"garments\"] = garments\n",
        "\n",
        "    def display_design(self):\n",
        "        return f\"Style: {self.designs['style']}\\nColors: {', '.join(self.designs['colors'])}\\nGarments: {', '.join(self.designs['garments'])}\"\n",
        "\n",
        "# User Input\n",
        "print(\"Welcome to the Fashion Design Expert System\")\n",
        "style = input(\"Enter preferred style (e.g., casual, formal): \")\n",
        "colors = input(\"Enter preferred colors (comma-separated): \").split(\",\")\n",
        "garments = input(\"Enter preferred garments (comma-separated): \").split(\",\")\n",
        "\n",
        "# Create Fashion Designer\n",
        "designer = FashionDesigner()\n",
        "\n",
        "# Create Design and Display\n",
        "designer.create_design(style, colors, garments)\n",
        "design_description = designer.display_design()\n",
        "\n",
        "# Display Design Description\n",
        "print(\"\\nDesign Description:\")\n",
        "print(design_description)\n"
      ]
    }
  ]
}