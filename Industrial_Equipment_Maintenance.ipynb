{
  "nbformat": 4,
  "nbformat_minor": 0,
  "metadata": {
    "colab": {
      "provenance": []
    },
    "kernelspec": {
      "name": "python3",
      "display_name": "Python 3"
    },
    "language_info": {
      "name": "python"
    }
  },
  "cells": [
    {
      "cell_type": "code",
      "execution_count": null,
      "metadata": {
        "id": "R18gX1Sx0uB9"
      },
      "outputs": [],
      "source": [
        "class EquipmentMaintenance:\n",
        "    def __init__(self):\n",
        "        self.machinery_status = {}\n",
        "\n",
        "    def monitor_machinery(self, machinery_id, status):\n",
        "        self.machinery_status[machinery_id] = status\n",
        "\n",
        "    def provide_recommendation(self, machinery_id):\n",
        "        if self.machinery_status.get(machinery_id) == \"failure\":\n",
        "            return \"Perform immediate troubleshooting and maintenance.\"\n",
        "        else:\n",
        "            return \"Continue regular preventive maintenance.\"\n",
        "\n",
        "# User Input\n",
        "print(\"Welcome to the Equipment Maintenance Expert System\")\n",
        "machinery_id = input(\"Enter machinery ID: \")\n",
        "status = input(\"Enter current machinery status (normal, failure): \")\n",
        "\n",
        "# Create Equipment Maintenance Expert\n",
        "maintenance_expert = EquipmentMaintenance()\n",
        "\n",
        "# Monitor Machinery and Provide Recommendation\n",
        "maintenance_expert.monitor_machinery(machinery_id, status)\n",
        "recommendation = maintenance_expert.provide_recommendation(machinery_id)\n",
        "\n",
        "# Display Recommendation\n",
        "print(\"\\nRecommendation:\")\n",
        "print(recommendation)\n"
      ]
    }
  ]
}