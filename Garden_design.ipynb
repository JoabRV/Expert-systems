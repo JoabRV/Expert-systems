{
  "nbformat": 4,
  "nbformat_minor": 0,
  "metadata": {
    "colab": {
      "provenance": []
    },
    "kernelspec": {
      "name": "python3",
      "display_name": "Python 3"
    },
    "language_info": {
      "name": "python"
    }
  },
  "cells": [
    {
      "cell_type": "code",
      "execution_count": null,
      "metadata": {
        "id": "AzwRO_QZzDrR"
      },
      "outputs": [],
      "source": [
        "class GardenDesign:\n",
        "    def __init__(self):\n",
        "        self.climate_zones = {\n",
        "            \"temperate\": [\"Roses\", \"Tulips\", \"Lavender\"],\n",
        "            \"tropical\": [\"Hibiscus\", \"Bougainvillea\", \"Palm Trees\"],\n",
        "            \"arid\": [\"Cacti\", \"Agave\", \"Succulents\"]\n",
        "            # Add more plant options for different climates\n",
        "        }\n",
        "\n",
        "    def suggest_plants(self, climate, space, preferences):\n",
        "        suggested_plants = []\n",
        "        if climate in self.climate_zones:\n",
        "            suggested_plants.extend(self.climate_zones[climate])\n",
        "\n",
        "        # Filter plants based on space and preferences\n",
        "        filtered_plants = [plant for plant in suggested_plants if plant in preferences]\n",
        "        return filtered_plants\n",
        "\n",
        "# User Input\n",
        "print(\"Welcome to the Garden Design Expert System\")\n",
        "climate = input(\"Enter your climate zone (temperate, tropical, arid): \").lower()\n",
        "space = input(\"Describe the available space (small, medium, large): \").lower()\n",
        "preferences = input(\"Enter your plant preferences (comma-separated): \").split(\",\")\n",
        "\n",
        "# Create Garden Design\n",
        "garden_designer = GardenDesign()\n",
        "\n",
        "# Suggest Plants\n",
        "suggested_plants = garden_designer.suggest_plants(climate, space, preferences)\n",
        "\n",
        "# Display Suggested Plants\n",
        "if suggested_plants:\n",
        "    print(\"\\nSuggested Plants:\")\n",
        "    for plant in suggested_plants:\n",
        "        print(\"- \" + plant)\n",
        "else:\n",
        "    print(\"\\nNo specific plant suggestions based on your inputs.\")\n"
      ]
    }
  ]
}