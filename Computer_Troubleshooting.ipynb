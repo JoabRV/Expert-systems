{
  "nbformat": 4,
  "nbformat_minor": 0,
  "metadata": {
    "colab": {
      "provenance": []
    },
    "kernelspec": {
      "name": "python3",
      "display_name": "Python 3"
    },
    "language_info": {
      "name": "python"
    }
  },
  "cells": [
    {
      "cell_type": "code",
      "execution_count": null,
      "metadata": {
        "id": "Pqo1LpmmDH2e"
      },
      "outputs": [],
      "source": [
        "class ComputerTroubleshooter:\n",
        "    def __init__(self):\n",
        "        self.issue_diagnosis = {\n",
        "            \"software\": \"Try restarting the computer and reinstalling the software.\",\n",
        "            \"hardware\": \"Check for loose connections and ensure components are seated properly.\",\n",
        "            \"virus\": \"Run a full system scan with an updated antivirus program.\"\n",
        "        }\n",
        "\n",
        "    def diagnose_problem(self, problem):\n",
        "        return self.issue_diagnosis.get(problem, \"Problem not identified. Consult technical support.\")\n",
        "\n",
        "# User Input\n",
        "print(\"Welcome to the Computer Troubleshooting Expert System\")\n",
        "problem = input(\"Please describe the computer problem you are facing: \")\n",
        "\n",
        "# Create Computer Troubleshooter Expert\n",
        "troubleshooter = ComputerTroubleshooter()\n",
        "\n",
        "# Diagnose Problem and Provide Solution\n",
        "solution = troubleshooter.diagnose_problem(problem)\n",
        "\n",
        "# Display Solution\n",
        "print(\"\\nSolution:\")\n",
        "print(solution)\n"
      ]
    }
  ]
}