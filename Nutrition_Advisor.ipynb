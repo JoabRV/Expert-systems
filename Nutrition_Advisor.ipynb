{
  "nbformat": 4,
  "nbformat_minor": 0,
  "metadata": {
    "colab": {
      "provenance": []
    },
    "kernelspec": {
      "name": "python3",
      "display_name": "Python 3"
    },
    "language_info": {
      "name": "python"
    }
  },
  "cells": [
    {
      "cell_type": "code",
      "execution_count": null,
      "metadata": {
        "id": "hg5uSFv_DHNQ"
      },
      "outputs": [],
      "source": [
        "class NutritionAdvisor:\n",
        "    def __init__(self):\n",
        "        self.nutritional_goals = {}\n",
        "\n",
        "    def set_nutritional_goals(self, weight_goal, health_goal):\n",
        "        self.nutritional_goals[\"weight_goal\"] = weight_goal\n",
        "        self.nutritional_goals[\"health_goal\"] = health_goal\n",
        "\n",
        "    def provide_recommendation(self):\n",
        "        if self.nutritional_goals[\"weight_goal\"] == \"lose\" and self.nutritional_goals[\"health_goal\"] == \"improve\":\n",
        "            return \"Focus on a balanced diet with a slight calorie deficit. Increase intake of fruits and vegetables.\"\n",
        "        else:\n",
        "            return \"Maintain a balanced diet with appropriate calorie intake. Monitor portion sizes.\"\n",
        "\n",
        "# User Input\n",
        "print(\"Welcome to the Nutrition Advisor Expert System\")\n",
        "weight_goal = input(\"Enter weight goal (lose, maintain, gain): \")\n",
        "health_goal = input(\"Enter health goal (improve, maintain): \")\n",
        "\n",
        "# Create Nutrition Advisor Expert\n",
        "nutrition_expert = NutritionAdvisor()\n",
        "\n",
        "# Set Goals and Provide Recommendation\n",
        "nutrition_expert.set_nutritional_goals(weight_goal, health_goal)\n",
        "nutrition_recommendation = nutrition_expert.provide_recommendation()\n",
        "\n",
        "# Display Nutrition Recommendation\n",
        "print(\"\\nNutrition Recommendation:\")\n",
        "print(nutrition_recommendation)\n"
      ]
    }
  ]
}