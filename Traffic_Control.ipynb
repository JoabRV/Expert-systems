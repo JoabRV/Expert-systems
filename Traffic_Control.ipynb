{
  "nbformat": 4,
  "nbformat_minor": 0,
  "metadata": {
    "colab": {
      "provenance": []
    },
    "kernelspec": {
      "name": "python3",
      "display_name": "Python 3"
    },
    "language_info": {
      "name": "python"
    }
  },
  "cells": [
    {
      "cell_type": "code",
      "execution_count": null,
      "metadata": {
        "id": "Wqpm49cBDBQz"
      },
      "outputs": [],
      "source": [
        "class TrafficControl:\n",
        "    def __init__(self):\n",
        "        self.traffic_data = {}\n",
        "\n",
        "    def manage_traffic(self, intersection_id, congestion_level):\n",
        "        self.traffic_data[intersection_id] = congestion_level\n",
        "\n",
        "    def optimize_signals(self):\n",
        "        for intersection, congestion in self.traffic_data.items():\n",
        "            if congestion == \"high\":\n",
        "                print(f\"Optimizing signals at intersection {intersection} to reduce congestion.\")\n",
        "            else:\n",
        "                print(f\"Signals at intersection {intersection} operating efficiently.\")\n",
        "\n",
        "# User Input\n",
        "print(\"Welcome to the Traffic Control Expert System\")\n",
        "intersection_id = input(\"Enter intersection ID: \")\n",
        "congestion_level = input(\"Enter congestion level (low, medium, high): \")\n",
        "\n",
        "# Create Traffic Control Expert\n",
        "traffic_expert = TrafficControl()\n",
        "\n",
        "# Manage Traffic and Optimize Signals\n",
        "traffic_expert.manage_traffic(intersection_id, congestion_level)\n",
        "traffic_expert.optimize_signals()\n"
      ]
    }
  ]
}