{
  "nbformat": 4,
  "nbformat_minor": 0,
  "metadata": {
    "colab": {
      "provenance": []
    },
    "kernelspec": {
      "name": "python3",
      "display_name": "Python 3"
    },
    "language_info": {
      "name": "python"
    }
  },
  "cells": [
    {
      "cell_type": "code",
      "execution_count": null,
      "metadata": {
        "id": "sOl94nP6zCNJ"
      },
      "outputs": [],
      "source": [
        "class CreditAssessment:\n",
        "    def __init__(self):\n",
        "        self.credit_factors = {}\n",
        "\n",
        "    def assess_credit(self, income, expenses, credit_score):\n",
        "        self.credit_factors[\"income\"] = income\n",
        "        self.credit_factors[\"expenses\"] = expenses\n",
        "        self.credit_factors[\"credit_score\"] = credit_score\n",
        "\n",
        "    def determine_approval(self):\n",
        "        if self.credit_factors[\"credit_score\"] >= 700 and self.credit_factors[\"income\"] - self.credit_factors[\"expenses\"] > 0:\n",
        "            return \"Loan approved.\"\n",
        "        else:\n",
        "            return \"Loan not approved.\"\n",
        "\n",
        "# User Input\n",
        "print(\"Welcome to the Credit Assessment Expert System\")\n",
        "income = float(input(\"Enter your monthly income: \"))\n",
        "expenses = float(input(\"Enter your monthly expenses: \"))\n",
        "credit_score = int(input(\"Enter your credit score: \"))\n",
        "\n",
        "# Create Credit Assessment Expert\n",
        "credit_expert = CreditAssessment()\n",
        "\n",
        "# Assess Credit and Determine Approval\n",
        "credit_expert.assess_credit(income, expenses, credit_score)\n",
        "approval_result = credit_expert.determine_approval()\n",
        "\n",
        "# Display Approval Result\n",
        "print(\"\\nApproval Result:\")\n",
        "print(approval_result)\n"
      ]
    }
  ]
}